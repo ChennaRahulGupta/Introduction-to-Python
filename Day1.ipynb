{
 "cells": [
  {
   "cell_type": "code",
   "execution_count": 1,
   "id": "8c3098fe",
   "metadata": {},
   "outputs": [
    {
     "name": "stdout",
     "output_type": "stream",
     "text": [
      "Hello World\n"
     ]
    }
   ],
   "source": [
    "# Hello world \n",
    "print(\"Hello World\")"
   ]
  },
  {
   "cell_type": "code",
   "execution_count": 3,
   "id": "1ce33c18",
   "metadata": {},
   "outputs": [
    {
     "name": "stdout",
     "output_type": "stream",
     "text": [
      "what is your name ?Rahul Chenna\n",
      "Hi Rahul Chenna\n"
     ]
    }
   ],
   "source": [
    "a = str(input(\"what is your name ?\"))\n",
    "print(\"Hi\",a)"
   ]
  },
  {
   "cell_type": "code",
   "execution_count": 4,
   "id": "6224cff8",
   "metadata": {},
   "outputs": [
    {
     "data": {
      "text/plain": [
       "str"
      ]
     },
     "execution_count": 4,
     "metadata": {},
     "output_type": "execute_result"
    }
   ],
   "source": [
    "type(a)"
   ]
  },
  {
   "cell_type": "markdown",
   "id": "e2afa665",
   "metadata": {},
   "source": [
    "# SETS"
   ]
  },
  {
   "cell_type": "code",
   "execution_count": 18,
   "id": "3287fcf8",
   "metadata": {},
   "outputs": [
    {
     "name": "stdout",
     "output_type": "stream",
     "text": [
      "{'h', 'r', 'u', 'l', 'a'}\n",
      "{'u', 'b', 'i', 'n'}\n"
     ]
    }
   ],
   "source": [
    "set1=set(\"rahul\")\n",
    "set2=set(\"binnu\")\n",
    "print(set1)\n",
    "print(set2)\n"
   ]
  },
  {
   "cell_type": "code",
   "execution_count": 24,
   "id": "fc4aa73d",
   "metadata": {},
   "outputs": [
    {
     "name": "stdout",
     "output_type": "stream",
     "text": [
      "{'gupta', 19, 4, 2004, 8, 'chenna', 'rahul'}\n"
     ]
    }
   ],
   "source": [
    "set3={\"rahul\",8,\"gupta\",\"chenna\",19,4,2004}\n",
    "print(set3)"
   ]
  },
  {
   "cell_type": "code",
   "execution_count": 25,
   "id": "41c8bbe9",
   "metadata": {},
   "outputs": [
    {
     "name": "stdout",
     "output_type": "stream",
     "text": [
      "{'gupta', 19, 4, 2004, 10, 'chenna', 'rahul'}\n"
     ]
    }
   ],
   "source": [
    "set3.add(10)\n",
    "set3.remove(8)\n",
    "print(set3)"
   ]
  },
  {
   "cell_type": "code",
   "execution_count": 30,
   "id": "55fdadb6",
   "metadata": {},
   "outputs": [
    {
     "name": "stdout",
     "output_type": "stream",
     "text": [
      "{'h', 'r', 4, 'chenna', 'u', 10, 'i', 'gupta', 19, 2004, 'l', 'n', 'b', 'a', 'rahul'}\n",
      "{'h', 'r', 4, 'chenna', 'u', 10, 'gupta', 19, 2004, 'l', 'a', 'rahul'}\n"
     ]
    }
   ],
   "source": [
    "set4 = set1|set2|set3\n",
    "print(set4)\n",
    "set5 = set1.union(set3)\n",
    "print(set5)"
   ]
  },
  {
   "cell_type": "code",
   "execution_count": 32,
   "id": "fc66777f",
   "metadata": {},
   "outputs": [
    {
     "name": "stdout",
     "output_type": "stream",
     "text": [
      "{'u'}\n",
      "{'u'}\n"
     ]
    }
   ],
   "source": [
    "print(set1&set2)\n",
    "print(set1.intersection(set2))"
   ]
  },
  {
   "cell_type": "code",
   "execution_count": 34,
   "id": "56c964ee",
   "metadata": {},
   "outputs": [
    {
     "name": "stdout",
     "output_type": "stream",
     "text": [
      "{'h', 'r', 'a', 'l'}\n",
      "{'h', 'r', 'a', 'l'}\n"
     ]
    }
   ],
   "source": [
    "print(set1-set2)\n",
    "print(set1.difference(set2))"
   ]
  },
  {
   "cell_type": "code",
   "execution_count": 35,
   "id": "f9bac099",
   "metadata": {},
   "outputs": [
    {
     "name": "stdout",
     "output_type": "stream",
     "text": [
      "{'h', 'r', 'i', 'l', 'n', 'b', 'a'}\n",
      "{'h', 'r', 'i', 'l', 'n', 'b', 'a'}\n"
     ]
    }
   ],
   "source": [
    "print(set1^set2)\n",
    "print(set1.symmetric_difference(set2))"
   ]
  },
  {
   "cell_type": "markdown",
   "id": "c769a47e",
   "metadata": {},
   "source": [
    "# DICTIONARY"
   ]
  },
  {
   "cell_type": "code",
   "execution_count": 98,
   "id": "f5538ab0",
   "metadata": {},
   "outputs": [
    {
     "name": "stdout",
     "output_type": "stream",
     "text": [
      "dict_keys([1, 2])\n",
      "dict_values(['rahul', 'binnu'])\n",
      "{1: 'rahul', 2: 'binnu'}\n",
      "rahul binnu\n",
      "{1: 'rahul', 2: 'binnu', 3: 'gupta'}\n"
     ]
    }
   ],
   "source": [
    "d = {1:\"rahul\",2:\"binnu\"}\n",
    "print(d.keys())\n",
    "print(d.values())\n",
    "print(d)\n",
    "print(d[1],d[2])\n",
    "d[3]=\"gupta\"\n",
    "print(d)"
   ]
  },
  {
   "cell_type": "code",
   "execution_count": 99,
   "id": "463cc84c",
   "metadata": {},
   "outputs": [
    {
     "name": "stdout",
     "output_type": "stream",
     "text": [
      "{2: 'binnu', 3: 'gupta'}\n"
     ]
    }
   ],
   "source": [
    "d.pop(1)\n",
    "print(d)"
   ]
  },
  {
   "cell_type": "markdown",
   "id": "4d28b56e",
   "metadata": {},
   "source": [
    "# STRINGS"
   ]
  },
  {
   "cell_type": "code",
   "execution_count": 81,
   "id": "6bcb4c8b",
   "metadata": {},
   "outputs": [
    {
     "name": "stdout",
     "output_type": "stream",
     "text": [
      "20\n",
      "chenna ,rahul, gupta\n",
      "CHENNA ,RAHUL, GUPTA Chenna ,rahul, gupta\n",
      "yes\n",
      "rahul\n",
      "['chenna ', 'rahul', ' gupta']\n",
      "chenna rahul gupta\n"
     ]
    }
   ],
   "source": [
    "s = \"chenna ,rahul, gupta\"\n",
    "b=(len(s))\n",
    "print(b)\n",
    "\n",
    "print(s.lower())\n",
    "print(s.upper(),s.capitalize())\n",
    "if \"hu\" in s:\n",
    "    print(\"yes\")\n",
    "else:\n",
    "    print(\"no\")\n",
    "\n",
    "p = (s.split(\",\"))   #strings\n",
    "print(p[1])  ##lists not have replace()\n",
    "print(p)\n",
    "print(s.replace(\",\",\"\"))\n"
   ]
  },
  {
   "cell_type": "code",
   "execution_count": 74,
   "id": "0733bd9e",
   "metadata": {},
   "outputs": [
    {
     "name": "stdout",
     "output_type": "stream",
     "text": [
      "enna ,rahul, gupta\n"
     ]
    }
   ],
   "source": [
    "print(s[-18:])"
   ]
  },
  {
   "cell_type": "markdown",
   "id": "2eaf6e13",
   "metadata": {},
   "source": [
    "# TUPLES | LISTS "
   ]
  },
  {
   "cell_type": "code",
   "execution_count": 84,
   "id": "957ad26d",
   "metadata": {},
   "outputs": [
    {
     "name": "stdout",
     "output_type": "stream",
     "text": [
      "chenna rahul\n"
     ]
    }
   ],
   "source": [
    "TUPLES = (\"rahul\",\"chenna\")\n",
    "s= TUPLES[1] + \" \"+TUPLES[0]\n",
    "print(s)"
   ]
  },
  {
   "cell_type": "code",
   "execution_count": 86,
   "id": "724696be",
   "metadata": {},
   "outputs": [],
   "source": [
    "t = (\"rahul\",\"gupta\")\n",
    "# t[1] = \"chenna\"   ##tuples are immutable"
   ]
  },
  {
   "cell_type": "code",
   "execution_count": 122,
   "id": "5023f340",
   "metadata": {},
   "outputs": [
    {
     "name": "stdout",
     "output_type": "stream",
     "text": [
      "False\n",
      "<class 'str'> \n",
      " <class 'tuple'>\n"
     ]
    }
   ],
   "source": [
    "q = (\"c\",\"python\",\"java\",\"pascal\",\"cobol\",\"fortan\", \" c++\",\"perl\")\n",
    "if \"php\" in q:\n",
    "    print(True)\n",
    "else:\n",
    "    print(False)\n",
    "len(q)\n",
    "a = (\"rahul\")  #string\n",
    "b = (\"rahul\",)  #tuple\n",
    "print(type(a),\"\\n\",type(b))\n"
   ]
  },
  {
   "cell_type": "code",
   "execution_count": 2,
   "id": "bdc82ee0",
   "metadata": {},
   "outputs": [
    {
     "name": "stdout",
     "output_type": "stream",
     "text": [
      "['rahul', 'gupta', 'chenna', 19, 4, 2004]\n"
     ]
    },
    {
     "data": {
      "text/plain": [
       "list"
      ]
     },
     "execution_count": 2,
     "metadata": {},
     "output_type": "execute_result"
    }
   ],
   "source": [
    "l = ['rahul','gupta','chenna',19,4,2004]\n",
    "print(l)\n",
    "type(l)"
   ]
  },
  {
   "cell_type": "code",
   "execution_count": 9,
   "id": "d4b1b3a6",
   "metadata": {},
   "outputs": [
    {
     "name": "stdout",
     "output_type": "stream",
     "text": [
      "['rahul', 'gupta', None, 'binnu', 'binnu', 19, 'chenna rahul gupta', 'chenna rahul gupta']\n"
     ]
    }
   ],
   "source": [
    "l[2]= None\n",
    "print(l)"
   ]
  },
  {
   "cell_type": "code",
   "execution_count": 11,
   "id": "d362fcc8",
   "metadata": {},
   "outputs": [
    {
     "name": "stdout",
     "output_type": "stream",
     "text": [
      "['rahul', 'gupta', None, 'binnu', 'binnu', 'chenna rahul gupta', 'chenna rahul gupta']\n"
     ]
    }
   ],
   "source": [
    "l.remove(19)\n",
    "print(l)"
   ]
  },
  {
   "cell_type": "code",
   "execution_count": 5,
   "id": "426c1a31",
   "metadata": {},
   "outputs": [
    {
     "name": "stdout",
     "output_type": "stream",
     "text": [
      "['rahul', 'gupta', None, 'binnu', 19, 4, 2004, 'chenna rahul gupta', 'chenna rahul gupta']\n",
      "['rahul', 'gupta', None, 'binnu', 'binnu', 19, 2004, 'chenna rahul gupta', 'chenna rahul gupta']\n"
     ]
    },
    {
     "data": {
      "text/plain": [
       "1"
      ]
     },
     "execution_count": 5,
     "metadata": {},
     "output_type": "execute_result"
    }
   ],
   "source": [
    "l.append(\"chenna rahul gupta\")\n",
    "print(l)\n",
    "l.insert(3,\"binnu\")\n",
    "l.remove(4)\n",
    "print(l)\n",
    "l.index(\"rahul\")\n",
    "l.count(\"rahul\")"
   ]
  },
  {
   "cell_type": "code",
   "execution_count": 133,
   "id": "d7c38ff8",
   "metadata": {},
   "outputs": [
    {
     "name": "stdout",
     "output_type": "stream",
     "text": [
      "None\n"
     ]
    }
   ],
   "source": [
    "l.reverse()\n",
    "print(l.reverse())"
   ]
  },
  {
   "cell_type": "code",
   "execution_count": 137,
   "id": "380bc79a",
   "metadata": {},
   "outputs": [
    {
     "name": "stdout",
     "output_type": "stream",
     "text": [
      "[6, 5, 4, 2, 3, 1]\n",
      "[1, 2, 3, 4, 5, 6]\n"
     ]
    }
   ],
   "source": [
    "d = [1,3,2,4,5,6]\n",
    "d.reverse()\n",
    "print(d)\n",
    "d.sort()\n",
    "print(d)"
   ]
  },
  {
   "cell_type": "code",
   "execution_count": 146,
   "id": "3afeb072",
   "metadata": {},
   "outputs": [
    {
     "name": "stdout",
     "output_type": "stream",
     "text": [
      "123 123 123.0\n",
      "123\n"
     ]
    }
   ],
   "source": [
    " a = 123\n",
    "type(a)\n",
    "b=str(a)\n",
    "c=float(a)\n",
    "print(a,b,c)\n",
    "type(b)\n",
    "\n"
   ]
  },
  {
   "cell_type": "code",
   "execution_count": 147,
   "id": "5db5908f",
   "metadata": {},
   "outputs": [
    {
     "name": "stdout",
     "output_type": "stream",
     "text": [
      "123\n"
     ]
    }
   ],
   "source": [
    "d=int(b)\n",
    "print(d)"
   ]
  },
  {
   "cell_type": "code",
   "execution_count": 152,
   "id": "3d75eaa1",
   "metadata": {},
   "outputs": [
    {
     "name": "stdout",
     "output_type": "stream",
     "text": [
      "rahul\n",
      "gupta\n",
      "binnu\n",
      "19\n",
      "4\n",
      "2004\n",
      "chenna rahul gupta\n"
     ]
    }
   ],
   "source": [
    "b='rahul'\n",
    "for char in l:\n",
    "    print(char)"
   ]
  },
  {
   "cell_type": "markdown",
   "id": "b6553040",
   "metadata": {},
   "source": [
    "# FUNCTIONS"
   ]
  },
  {
   "cell_type": "code",
   "execution_count": 161,
   "id": "c5caac5d",
   "metadata": {},
   "outputs": [
    {
     "name": "stdout",
     "output_type": "stream",
     "text": [
      "chenna rahul gupta\n",
      "rahul\n"
     ]
    },
    {
     "data": {
      "text/plain": [
       "True"
      ]
     },
     "execution_count": 161,
     "metadata": {},
     "output_type": "execute_result"
    }
   ],
   "source": [
    "def names(a=\"rahul\"):\n",
    "    print(\"chenna rahul gupta\")\n",
    "    print(a)\n",
    "    return True\n",
    "(names())"
   ]
  },
  {
   "cell_type": "code",
   "execution_count": 162,
   "id": "1c6b63ac",
   "metadata": {},
   "outputs": [
    {
     "name": "stdout",
     "output_type": "stream",
     "text": [
      "chenna rahul gupta\n",
      "binnu\n"
     ]
    },
    {
     "data": {
      "text/plain": [
       "True"
      ]
     },
     "execution_count": 162,
     "metadata": {},
     "output_type": "execute_result"
    }
   ],
   "source": [
    "names(\"binnu\")"
   ]
  },
  {
   "cell_type": "code",
   "execution_count": 164,
   "id": "70f58def",
   "metadata": {},
   "outputs": [
    {
     "data": {
      "text/plain": [
       "25"
      ]
     },
     "execution_count": 164,
     "metadata": {},
     "output_type": "execute_result"
    }
   ],
   "source": [
    "def a(x):\n",
    "    return x*x\n",
    "a(5)"
   ]
  },
  {
   "cell_type": "markdown",
   "id": "967b7282",
   "metadata": {},
   "source": [
    "# Prime Numbers"
   ]
  },
  {
   "cell_type": "code",
   "execution_count": 3,
   "id": "882efed3",
   "metadata": {},
   "outputs": [
    {
     "name": "stdout",
     "output_type": "stream",
     "text": [
      "Enter number of primes : 4\n",
      "[2, 3, 5, 7]\n"
     ]
    }
   ],
   "source": [
    "a = int(input(\"Enter number of primes : \"))\n",
    "def prime(a):\n",
    "    for i in range (2,a):\n",
    "        if a%i==0:\n",
    "            return False\n",
    "        else:\n",
    "             return True\n",
    "list =[2]\n",
    "for i in range (3,a*a):\n",
    "    if len(list)==a:\n",
    "        continue\n",
    "    if prime(i):\n",
    "        list.append(i)\n",
    "\n",
    "print(list) \n"
   ]
  },
  {
   "cell_type": "code",
   "execution_count": null,
   "id": "794ca1b0",
   "metadata": {},
   "outputs": [],
   "source": []
  }
 ],
 "metadata": {
  "kernelspec": {
   "display_name": "Python 3 (ipykernel)",
   "language": "python",
   "name": "python3"
  },
  "language_info": {
   "codemirror_mode": {
    "name": "ipython",
    "version": 3
   },
   "file_extension": ".py",
   "mimetype": "text/x-python",
   "name": "python",
   "nbconvert_exporter": "python",
   "pygments_lexer": "ipython3",
   "version": "3.11.4"
  }
 },
 "nbformat": 4,
 "nbformat_minor": 5
}
